{
 "cells": [
  {
   "cell_type": "code",
   "execution_count": 1,
   "metadata": {
    "colab": {},
    "colab_type": "code",
    "id": "hxdiDxLNq5Ce"
   },
   "outputs": [],
   "source": [
    "import numpy as np\n",
    "import random\n",
    "import math\n",
    "import tensorflow as tf\n",
    "import matplotlib.pyplot as plt"
   ]
  },
  {
   "cell_type": "markdown",
   "metadata": {
    "colab_type": "text",
    "id": "NvQ8nxUh0qjk"
   },
   "source": [
    "# Генерация данных"
   ]
  },
  {
   "cell_type": "code",
   "execution_count": 2,
   "metadata": {},
   "outputs": [],
   "source": [
    "#Упражнение 3\n",
    "def generate_x_y_data_two_freqs(isTrain,batch_size,seq_length):\n",
    "    batch_x = []\n",
    "    batch_y = []\n",
    "\n",
    "    for _ in range(batch_size):\n",
    "        offset_rand = random.random() * 2 * math.pi\n",
    "        freq_rand = (random.random() - 0.5) / 1.5 * 15 + 0.5\n",
    "        amp_rand = random.random() + 0.1\n",
    "\n",
    "        sig1 = amp_rand * np.sin(np.linspace(\n",
    "            seq_length / 15.0 * freq_rand * 0.0 * math.pi + offset_rand,\n",
    "            seq_length / 15.0 * freq_rand * 3.0 * math.pi + offset_rand,\n",
    "            seq_length * 2\n",
    "        )\n",
    "        )\n",
    "\n",
    "        offset_rand = random.random() * 2 * math.pi\n",
    "        freq_rand = (random.random() - 0.5) / 1.5 * 15 + 0.5\n",
    "        amp_rand = random.random() * 1.2\n",
    "\n",
    "        sig1 = amp_rand * np.cos(np.linspace(\n",
    "            seq_length / 15.0 * freq_rand * 0.0 * math.pi + offset_rand,\n",
    "            seq_length / 15.0 * freq_rand * 3.0 * math.pi + offset_rand,\n",
    "            seq_length * 2\n",
    "        )\n",
    "        ) + sig1\n",
    "\n",
    "        x1 = sig1[:seq_length]\n",
    "        y1 = sig1[seq_length:]\n",
    "\n",
    "        x_ = np.array([x1])\n",
    "        y_ = np.array([y1])\n",
    "        x_,y_ = x_.T,y_.T\n",
    "\n",
    "    batch_x.append(x_)\n",
    "    batch_y.append(y_)\n",
    "\n",
    "    batch_x = np.array(batch_x)\n",
    "    batch_y = np.array(batch_y)\n",
    "\n",
    "    batch_x = np.array(batch_x).transpose((1,0,2))\n",
    "    batch_y = np.array(batch_y).transpose((1,0,2))\n",
    "    \n",
    "    return batch_x,batch_y\n",
    "\n"
   ]
  },
  {
   "cell_type": "code",
   "execution_count": 3,
   "metadata": {},
   "outputs": [],
   "source": [
    "#Упражнение 3\n",
    "def generate_x_y_data_v3(isTrain,batch_size):\n",
    "    seq_length = 30\n",
    "    x,y = generate_x_y_data_two_freqs(\n",
    "        isTrain,batch_size,seq_length = seq_length)\n",
    "    noise_amount = random.random() * 0.15 + 0.10\n",
    "\n",
    "    x = x + noise_amount * np.random.randn(seq_length,batch_size,1)\n",
    "    \n",
    "    avg = np.average(x)\n",
    "    std = np.std(x) + 0.0001\n",
    "    x = x - avg\n",
    "    y = y - avg\n",
    "    x = x / std / 2.5\n",
    "    y = y / std / 2.5\n",
    "    \n",
    "    return x , y"
   ]
  },
  {
   "cell_type": "markdown",
   "metadata": {
    "colab_type": "text",
    "id": "WrROk9i20m_0"
   },
   "source": [
    "# Определение параметров нейросети"
   ]
  },
  {
   "cell_type": "code",
   "execution_count": 4,
   "metadata": {
    "colab": {},
    "colab_type": "code",
    "id": "acsi3iCItPOc"
   },
   "outputs": [],
   "source": [
    "#Набор обучающих и тестовых данных\n",
    "sample_x,sample_y = generate_x_y_data_v3(isTrain = True, batch_size = 3)\n",
    "\n",
    "#Длина последовательности\n",
    "seq_length = sample_x.shape[0]\n",
    "#Размер пакета количество, по которому усредняется градиент\n",
    "batch_size = 5\n",
    "\n",
    "#Размерность выходных данных\n",
    "output_dim = input_dim = sample_x.shape[-1]\n",
    "#Количество скрытых нейронов в каждой ячейке\n",
    "hidden_dim = 60\n",
    "#Количество ячеек \n",
    "layers_stacked_count = 2\n",
    "\n",
    "#Параметры оптимизатора\n",
    "#Скорость обучения\n",
    "learning_rate = 0.007\n",
    "#Количество итераций по обучающей выборке\n",
    "nb_iters = 150\n",
    "#Дополнительные параметры алгоритма оптимизации\n",
    "lr_decay = 0.92\n",
    "momentum = 0.5\n",
    "# Коэффициент L2 регулярязации \n",
    "lambda_l2_reg = 0.003\n"
   ]
  },
  {
   "cell_type": "markdown",
   "metadata": {
    "colab_type": "text",
    "id": "G_soiz4V0d7e"
   },
   "source": [
    "# Описание графа вычислений"
   ]
  },
  {
   "cell_type": "code",
   "execution_count": 5,
   "metadata": {
    "colab": {},
    "colab_type": "code",
    "id": "GJgB1jCD0XGE"
   },
   "outputs": [
    {
     "name": "stdout",
     "output_type": "stream",
     "text": [
      "WARNING:tensorflow:\n",
      "The TensorFlow contrib module will not be included in TensorFlow 2.0.\n",
      "For more information, please see:\n",
      "  * https://github.com/tensorflow/community/blob/master/rfcs/20180907-contrib-sunset.md\n",
      "  * https://github.com/tensorflow/addons\n",
      "  * https://github.com/tensorflow/io (for I/O related ops)\n",
      "If you depend on functionality not listed there, please file an issue.\n",
      "\n",
      "WARNING:tensorflow:From <ipython-input-5-6a56613380e8>:25: GRUCell.__init__ (from tensorflow.python.ops.rnn_cell_impl) is deprecated and will be removed in a future version.\n",
      "Instructions for updating:\n",
      "This class is equivalent as tf.keras.layers.GRUCell, and will be replaced by that in Tensorflow 2.0.\n",
      "WARNING:tensorflow:From <ipython-input-5-6a56613380e8>:27: MultiRNNCell.__init__ (from tensorflow.python.ops.rnn_cell_impl) is deprecated and will be removed in a future version.\n",
      "Instructions for updating:\n",
      "This class is equivalent as tf.keras.layers.StackedRNNCells, and will be replaced by that in Tensorflow 2.0.\n",
      "WARNING:tensorflow:From d:\\programs\\python\\python36\\lib\\site-packages\\tensorflow_core\\contrib\\legacy_seq2seq\\python\\ops\\seq2seq.py:186: static_rnn (from tensorflow.python.ops.rnn) is deprecated and will be removed in a future version.\n",
      "Instructions for updating:\n",
      "Please use `keras.layers.RNN(cell, unroll=True)`, which is equivalent to this API\n",
      "WARNING:tensorflow:From d:\\programs\\python\\python36\\lib\\site-packages\\tensorflow_core\\python\\ops\\rnn_cell_impl.py:559: Layer.add_variable (from tensorflow.python.keras.engine.base_layer) is deprecated and will be removed in a future version.\n",
      "Instructions for updating:\n",
      "Please use `layer.add_weight` method instead.\n",
      "WARNING:tensorflow:From d:\\programs\\python\\python36\\lib\\site-packages\\tensorflow_core\\python\\ops\\rnn_cell_impl.py:565: calling Constant.__init__ (from tensorflow.python.ops.init_ops) with dtype is deprecated and will be removed in a future version.\n",
      "Instructions for updating:\n",
      "Call initializer instance with the dtype argument instead of passing it to the constructor\n",
      "WARNING:tensorflow:From d:\\programs\\python\\python36\\lib\\site-packages\\tensorflow_core\\python\\ops\\rnn_cell_impl.py:575: calling Zeros.__init__ (from tensorflow.python.ops.init_ops) with dtype is deprecated and will be removed in a future version.\n",
      "Instructions for updating:\n",
      "Call initializer instance with the dtype argument instead of passing it to the constructor\n"
     ]
    }
   ],
   "source": [
    "tf.nn.seq2seq = tf.contrib.legacy_seq2seq\n",
    "tf.nn.rnn_cell = tf.contrib.rnn\n",
    "tf.nn.rnn_cell.GRUCell = tf.contrib.rnn.GRUCell\n",
    "\n",
    "tf.reset_default_graph()\n",
    "\n",
    "sess = tf.InteractiveSession()\n",
    "\n",
    "with tf.variable_scope('Seq2seq'):\n",
    "    enc_inp = [\n",
    "        tf.placeholder(tf.float32,shape = (None,input_dim),name = \"inp_{}\".format(t))\n",
    "            for t in range (seq_length)\n",
    "    ]\n",
    "    \n",
    "    expected_sparse_output = [\n",
    "        tf. placeholder (tf.float32,shape = (None,output_dim),name = \"expected_sparse_output_\".format(t))\n",
    "            for t in range (seq_length)\n",
    "    ]\n",
    "    \n",
    "    dec_inp = [tf.zeros_like(enc_inp[0],dtype = np.float32,name =\"GO\")] + enc_inp[: -1]\n",
    "    \n",
    "    cells = []\n",
    "    for i in range (layers_stacked_count):\n",
    "        with tf.variable_scope('RNN_{}'.format(i)):\n",
    "            cells.append(tf.nn.rnn_cell.GRUCell(hidden_dim))\n",
    "            \n",
    "    cell = tf.nn.rnn_cell.MultiRNNCell(cells)\n",
    "            \n",
    "    w_in = tf.Variable(tf.random_normal([input_dim,hidden_dim]))\n",
    "    b_in = tf.Variable(tf.random_normal([hidden_dim],mean = 1.0))\n",
    "    w_out = tf.Variable(tf.random_normal([hidden_dim,output_dim]))\n",
    "    b_out = tf.Variable(tf.random_normal([output_dim]))\n",
    "    \n",
    "    reshaped_inputs = [tf.nn.relu(tf.matmul(i,w_in) + b_in) for i in enc_inp]\n",
    "    \n",
    "    dec_outputs,dec_memory = tf.nn.seq2seq.basic_rnn_seq2seq(\n",
    "        enc_inp,\n",
    "        dec_inp,\n",
    "        cell\n",
    "    )\n",
    "    \n",
    "    output_scale_factor = tf.Variable(1.0,name = \"Output_ScaleFactor\")\n",
    "    reshaped_outputs = [output_scale_factor * (tf.matmul(i,w_out) + b_out) for i in dec_outputs]"
   ]
  },
  {
   "cell_type": "markdown",
   "metadata": {},
   "source": [
    "# Описание функции потерь и оптимизатора"
   ]
  },
  {
   "cell_type": "code",
   "execution_count": 6,
   "metadata": {},
   "outputs": [],
   "source": [
    "#Функция потерь\n",
    "with tf.variable_scope('Loss'):\n",
    "    output_loss = 0\n",
    "    for _y,_Y in zip(reshaped_outputs,expected_sparse_output):\n",
    "        output_loss += tf.reduce_mean(tf.nn.l2_loss(_y - _Y))\n",
    "    \n",
    "    reg_loss = 0\n",
    "    for tf_var in tf.trainable_variables():\n",
    "        if not (\"Bias\" in tf_var.name or \"Output_\" in tf_var.name):\n",
    "            reg_loss += tf.reduce_mean(tf.nn.l2_loss(tf_var))\n",
    "    \n",
    "    loss = output_loss + lambda_l2_reg * reg_loss"
   ]
  },
  {
   "cell_type": "code",
   "execution_count": 7,
   "metadata": {},
   "outputs": [
    {
     "name": "stdout",
     "output_type": "stream",
     "text": [
      "WARNING:tensorflow:From d:\\programs\\python\\python36\\lib\\site-packages\\tensorflow_core\\python\\training\\rmsprop.py:119: calling Ones.__init__ (from tensorflow.python.ops.init_ops) with dtype is deprecated and will be removed in a future version.\n",
      "Instructions for updating:\n",
      "Call initializer instance with the dtype argument instead of passing it to the constructor\n"
     ]
    }
   ],
   "source": [
    "#Оптимизатор\n",
    "with tf.variable_scope('Optimizer'):\n",
    "    optimizer = tf.train.RMSPropOptimizer(learning_rate,decay = lr_decay,momentum = momentum)\n",
    "    train_op = optimizer.minimize(loss)"
   ]
  },
  {
   "cell_type": "markdown",
   "metadata": {},
   "source": [
    "# Обучение и валидация нейронной сети"
   ]
  },
  {
   "cell_type": "code",
   "execution_count": 8,
   "metadata": {},
   "outputs": [],
   "source": [
    "def train_batch(batch_size):\n",
    "    X,Y = generate_x_y_data_v3(isTrain = True,batch_size = batch_size)\n",
    "    feed_dict = {enc_inp[t]:X[t] for t in range(len(enc_inp))}\n",
    "    feed_dict.update({expected_sparse_output[t]:Y[t] for t in range (len(expected_sparse_output))})\n",
    "    _,loss_t = sess.run([train_op,loss],feed_dict)\n",
    "    return loss_t"
   ]
  },
  {
   "cell_type": "code",
   "execution_count": 9,
   "metadata": {},
   "outputs": [],
   "source": [
    "def test_batch(batch_size):\n",
    "    X,Y = generate_x_y_data_v3(isTrain = False,batch_size = batch_size)\n",
    "    feed_dict = {enc_inp[t]:X[t] for t in range(len(enc_inp))}\n",
    "    feed_dict.update({expected_sparse_output[t]:Y[t] for t in range (len(expected_sparse_output))})\n",
    "    loss_t = sess.run([loss],feed_dict)\n",
    "    return loss_t [0]"
   ]
  },
  {
   "cell_type": "code",
   "execution_count": null,
   "metadata": {},
   "outputs": [
    {
     "name": "stdout",
     "output_type": "stream",
     "text": [
      "Step0/150,train loss:18.338478088378906,\tTEST loss:284.6910705566406\n",
      "Step10/150,train loss:29.170551300048828,\tTEST loss:14.196380615234375\n",
      "Step20/150,train loss:12.680801391601562,\tTEST loss:18.948270797729492\n",
      "Step30/150,train loss:12.915304183959961,\tTEST loss:13.807578086853027\n"
     ]
    }
   ],
   "source": [
    "train_losses = []\n",
    "test_losses = []\n",
    "\n",
    "sess.run(tf.global_variables_initializer())\n",
    "for t in range (nb_iters + 1):\n",
    "    train_loss = train_batch(batch_size)\n",
    "    train_losses . append (train_loss)\n",
    "    \n",
    "    if t % 10 == 0:\n",
    "        test_loss = test_batch(batch_size)\n",
    "        test_losses.append(test_loss)\n",
    "        print(\"Step{}/{},train loss:{},\\tTEST loss:{}\".format(t,nb_iters,train_loss,test_loss))\n",
    "\n",
    "print(\"Fin.train loss:{},\\tTEST loss:{}\".format(train_loss,test_loss))"
   ]
  },
  {
   "cell_type": "markdown",
   "metadata": {},
   "source": [
    "# Визуализация результатов"
   ]
  },
  {
   "cell_type": "code",
   "execution_count": null,
   "metadata": {},
   "outputs": [],
   "source": [
    "#Визуализация процесса обучения\n",
    "plt.figure(figsize = (12,6))\n",
    "plt.plot(\n",
    "    np.array(range (0,len(test_losses))) / float(len(test_losses) - 1) * (len(train_losses) - 1),\n",
    "    np.log(test_losses),\n",
    "    label = \"Test loss\"\n",
    ")\n",
    "\n",
    "plt.plot(\n",
    "    np.log(train_losses),\n",
    "    label = \"Train loss\"\n",
    ")\n",
    "\n",
    "plt.title(\"Training errors over time(on a logarithmic scale)\")\n",
    "plt.xlabel('Iteration')\n",
    "plt.ylabel('log(Loss)')\n",
    "plt.legend(loc = 'best')\n",
    "plt.show()"
   ]
  },
  {
   "cell_type": "code",
   "execution_count": null,
   "metadata": {},
   "outputs": [],
   "source": [
    "nb_predictions = 1\n",
    "print (\"Let's visualize{} predictions with our signals:\".format(nb_predictions))\n",
    "\n",
    "X,Y = generate_x_y_data_v3(isTrain = False,batch_size = nb_predictions)\n",
    "feed_dict = {enc_inp[t]:X[t] for t in range (seq_length)}\n",
    "outputs = np.array(sess.run([reshaped_outputs],feed_dict)[0])\n",
    "\n",
    "for j in range(nb_predictions):\n",
    "    plt.figure(figsize = (12,3))\n",
    "    \n",
    "    for k in range(output_dim):\n",
    "        past = X [:,j,k]\n",
    "        expected = Y [:,j,k]\n",
    "        pred = outputs [:,j,k]\n",
    "        \n",
    "    label1 = \"Seen(past) values\" if k == 0 else \"_nolegend_\"\n",
    "    label2 = \"True future values\" if k == 0 else \"_nolegend_\"\n",
    "    label3 = \"Predictions\" if k == 0 else \"_nolegend_\"\n",
    "    plt.plot(range(len(past)),past,\"o--b\",label = label1)\n",
    "    plt.plot(range(len(past),len ( expected )+ len(past)),expected,\"x--b\",label = label2)\n",
    "    plt.plot(range(len(past),len ( pred )+ len(past)),pred,\"o--y\",label = label3)\n",
    "    \n",
    "    plt.legend(loc = 'best')\n",
    "    plt.title(\"Predictions v.s. true values\")\n",
    "    plt.show()\n",
    "    \n"
   ]
  }
 ],
 "metadata": {
  "colab": {
   "collapsed_sections": [],
   "name": "lab6.ipynb",
   "provenance": []
  },
  "kernelspec": {
   "display_name": "Python 3",
   "language": "python",
   "name": "python3"
  },
  "language_info": {
   "codemirror_mode": {
    "name": "ipython",
    "version": 3
   },
   "file_extension": ".py",
   "mimetype": "text/x-python",
   "name": "python",
   "nbconvert_exporter": "python",
   "pygments_lexer": "ipython3",
   "version": "3.6.3"
  }
 },
 "nbformat": 4,
 "nbformat_minor": 1
}

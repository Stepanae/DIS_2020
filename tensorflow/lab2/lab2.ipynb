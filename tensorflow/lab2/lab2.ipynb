{
 "cells": [
  {
   "cell_type": "code",
   "execution_count": 15,
   "metadata": {
    "scrolled": true
   },
   "outputs": [
    {
     "name": "stdout",
     "output_type": "stream",
     "text": [
      "Extracting /data\\train-images-idx3-ubyte.gz\n",
      "Extracting /data\\train-labels-idx1-ubyte.gz\n",
      "Extracting /data\\t10k-images-idx3-ubyte.gz\n",
      "Extracting /data\\t10k-labels-idx1-ubyte.gz\n"
     ]
    }
   ],
   "source": [
    "import tensorflow as tf\n",
    "from tensorflow.examples.tutorials.mnist import input_data\n",
    "DATA_DIR = '/data'\n",
    "NUM_STEPS = 1000\n",
    "MINIBATCH_SIZE = 100\n",
    "LEARNING_RATE = 0.5\n",
    "data = input_data.read_data_sets (DATA_DIR , one_hot = True )"
   ]
  },
  {
   "cell_type": "code",
   "execution_count": 21,
   "metadata": {},
   "outputs": [
    {
     "name": "stdout",
     "output_type": "stream",
     "text": [
      " Accuracy : 88.81% \n"
     ]
    }
   ],
   "source": [
    "x = tf.placeholder (tf.float32 , [ None , 784])\n",
    "W = tf.Variable (tf.zeros ([784 , 10]))\n",
    "b = tf.Variable (tf.zeros ([10]) , dtype =tf.float32 )\n",
    "y_true = tf.placeholder (tf.float32 , [ None , 10])\n",
    "\n",
    "y_pred = 1/(tf.exp(tf.matmul(x,W) + b)+1)\n",
    "\n",
    "cross_entropy = tf.reduce_mean (tf.nn.softmax_cross_entropy_with_logits (logits = y_pred , labels = y_true ))\n",
    "gd_step = tf.train.GradientDescentOptimizer(LEARNING_RATE).minimize(cross_entropy)\n",
    "correct_mask = tf.equal(tf.argmax(y_pred, 1), tf.argmax(y_true , 1))\n",
    "accuracy = tf.reduce_mean (tf. cast ( correct_mask , tf.float32 ))\n",
    "\n",
    "with tf.Session () as sess :\n",
    "    # Train\n",
    "    sess.run(tf.global_variables_initializer ())\n",
    "    for i in range ( NUM_STEPS ):\n",
    "        batch_x , batch_y = data.train.next_batch(MINIBATCH_SIZE)\n",
    "        sess.run ( gd_step , feed_dict ={ x : batch_x , y_true : batch_y })\n",
    "        ans = sess.run (accuracy , feed_dict ={ x : data.test.images ,\n",
    "                                               y_true : data.test.labels })\n",
    "\n",
    "print (\" Accuracy : {:.4}% \". format ( ans *100))\n"
   ]
  },
  {
   "cell_type": "code",
   "execution_count": 10,
   "metadata": {},
   "outputs": [],
   "source": [
    "# layers sizes\n",
    "L1 = 200\n",
    "L2 = 100\n",
    "L3 = 60\n",
    "L4 = 30\n",
    "L5 = 10"
   ]
  },
  {
   "cell_type": "code",
   "execution_count": null,
   "metadata": {
    "scrolled": true
   },
   "outputs": [
    {
     "name": "stdout",
     "output_type": "stream",
     "text": [
      "WARNING:tensorflow:Entity <bound method Dense.call of <tensorflow.python.layers.core.Dense object at 0x000001C7019ED668>> could not be transformed and will be executed as-is. Please report this to the AutgoGraph team. When filing the bug, set the verbosity to 10 (on Linux, `export AUTOGRAPH_VERBOSITY=10`) and attach the full output. Cause: converting <bound method Dense.call of <tensorflow.python.layers.core.Dense object at 0x000001C7019ED668>>: AssertionError: Bad argument number for Name: 3, expecting 4\n",
      "WARNING: Entity <bound method Dense.call of <tensorflow.python.layers.core.Dense object at 0x000001C7019ED668>> could not be transformed and will be executed as-is. Please report this to the AutgoGraph team. When filing the bug, set the verbosity to 10 (on Linux, `export AUTOGRAPH_VERBOSITY=10`) and attach the full output. Cause: converting <bound method Dense.call of <tensorflow.python.layers.core.Dense object at 0x000001C7019ED668>>: AssertionError: Bad argument number for Name: 3, expecting 4\n",
      "WARNING:tensorflow:Entity <bound method Dense.call of <tensorflow.python.layers.core.Dense object at 0x000001C7019EDA20>> could not be transformed and will be executed as-is. Please report this to the AutgoGraph team. When filing the bug, set the verbosity to 10 (on Linux, `export AUTOGRAPH_VERBOSITY=10`) and attach the full output. Cause: converting <bound method Dense.call of <tensorflow.python.layers.core.Dense object at 0x000001C7019EDA20>>: AssertionError: Bad argument number for Name: 3, expecting 4\n",
      "WARNING: Entity <bound method Dense.call of <tensorflow.python.layers.core.Dense object at 0x000001C7019EDA20>> could not be transformed and will be executed as-is. Please report this to the AutgoGraph team. When filing the bug, set the verbosity to 10 (on Linux, `export AUTOGRAPH_VERBOSITY=10`) and attach the full output. Cause: converting <bound method Dense.call of <tensorflow.python.layers.core.Dense object at 0x000001C7019EDA20>>: AssertionError: Bad argument number for Name: 3, expecting 4\n",
      "WARNING:tensorflow:Entity <bound method Dense.call of <tensorflow.python.layers.core.Dense object at 0x000001C7019ED668>> could not be transformed and will be executed as-is. Please report this to the AutgoGraph team. When filing the bug, set the verbosity to 10 (on Linux, `export AUTOGRAPH_VERBOSITY=10`) and attach the full output. Cause: converting <bound method Dense.call of <tensorflow.python.layers.core.Dense object at 0x000001C7019ED668>>: AssertionError: Bad argument number for Name: 3, expecting 4\n",
      "WARNING: Entity <bound method Dense.call of <tensorflow.python.layers.core.Dense object at 0x000001C7019ED668>> could not be transformed and will be executed as-is. Please report this to the AutgoGraph team. When filing the bug, set the verbosity to 10 (on Linux, `export AUTOGRAPH_VERBOSITY=10`) and attach the full output. Cause: converting <bound method Dense.call of <tensorflow.python.layers.core.Dense object at 0x000001C7019ED668>>: AssertionError: Bad argument number for Name: 3, expecting 4\n",
      "WARNING:tensorflow:Entity <bound method Dense.call of <tensorflow.python.layers.core.Dense object at 0x000001C701A43128>> could not be transformed and will be executed as-is. Please report this to the AutgoGraph team. When filing the bug, set the verbosity to 10 (on Linux, `export AUTOGRAPH_VERBOSITY=10`) and attach the full output. Cause: converting <bound method Dense.call of <tensorflow.python.layers.core.Dense object at 0x000001C701A43128>>: AssertionError: Bad argument number for Name: 3, expecting 4\n",
      "WARNING: Entity <bound method Dense.call of <tensorflow.python.layers.core.Dense object at 0x000001C701A43128>> could not be transformed and will be executed as-is. Please report this to the AutgoGraph team. When filing the bug, set the verbosity to 10 (on Linux, `export AUTOGRAPH_VERBOSITY=10`) and attach the full output. Cause: converting <bound method Dense.call of <tensorflow.python.layers.core.Dense object at 0x000001C701A43128>>: AssertionError: Bad argument number for Name: 3, expecting 4\n",
      "WARNING:tensorflow:Entity <bound method Dense.call of <tensorflow.python.layers.core.Dense object at 0x000001C701ABED30>> could not be transformed and will be executed as-is. Please report this to the AutgoGraph team. When filing the bug, set the verbosity to 10 (on Linux, `export AUTOGRAPH_VERBOSITY=10`) and attach the full output. Cause: converting <bound method Dense.call of <tensorflow.python.layers.core.Dense object at 0x000001C701ABED30>>: AssertionError: Bad argument number for Name: 3, expecting 4\n",
      "WARNING: Entity <bound method Dense.call of <tensorflow.python.layers.core.Dense object at 0x000001C701ABED30>> could not be transformed and will be executed as-is. Please report this to the AutgoGraph team. When filing the bug, set the verbosity to 10 (on Linux, `export AUTOGRAPH_VERBOSITY=10`) and attach the full output. Cause: converting <bound method Dense.call of <tensorflow.python.layers.core.Dense object at 0x000001C701ABED30>>: AssertionError: Bad argument number for Name: 3, expecting 4\n",
      " Accuracy : 96.56% \n"
     ]
    }
   ],
   "source": [
    "x = tf.placeholder (tf.float32 , [ None , 784])\n",
    "\n",
    "l1 = tf.layers.dense (x , L1 , activation =tf.nn.relu , use_bias = True )\n",
    "l2 = tf.layers.dense (l1, L2 , activation =tf.nn.relu , use_bias = True )\n",
    "l3 = tf.layers.dense (l2, L3 , activation =tf.nn.relu , use_bias = True )\n",
    "l4 = tf.layers.dense (l3, L4 , activation =tf.nn.relu , use_bias = True )\n",
    "y_pred = tf.layers.dense (l4, L5 , activation =tf.nn.relu , use_bias = True )\n",
    "\n",
    "y_true = tf.placeholder (tf.float32 , [ None , 10])\n",
    "cross_entropy = tf.reduce_mean (tf.nn.softmax_cross_entropy_with_logits (logits = y_pred , labels = y_true ))\n",
    "gd_step = tf.train.GradientDescentOptimizer(LEARNING_RATE).minimize(cross_entropy)\n",
    "correct_mask = tf.equal(tf.argmax(y_pred,1), tf.argmax(y_true,1))\n",
    "accuracy = tf.reduce_mean (tf.cast(correct_mask, tf.float32))\n",
    "with tf.Session () as sess :\n",
    "    # Train\n",
    "    sess.run (tf.global_variables_initializer ())\n",
    "    for i in range ( NUM_STEPS ):\n",
    "        batch_x , batch_y = data.train.next_batch ( MINIBATCH_SIZE )\n",
    "        sess.run ( gd_step , feed_dict ={ x : batch_x , y_true : batch_y })\n",
    "        ans = sess.run ( accuracy , feed_dict ={ x : data.test.images ,\n",
    "                                                  y_true : data.test.labels })\n",
    "\n",
    "print (\" Accuracy : {:.4}% \". format ( ans *100))"
   ]
  },
  {
   "cell_type": "code",
   "execution_count": null,
   "metadata": {},
   "outputs": [],
   "source": []
  }
 ],
 "metadata": {
  "kernelspec": {
   "display_name": "Python 3",
   "language": "python",
   "name": "python3"
  },
  "language_info": {
   "codemirror_mode": {
    "name": "ipython",
    "version": 3
   },
   "file_extension": ".py",
   "mimetype": "text/x-python",
   "name": "python",
   "nbconvert_exporter": "python",
   "pygments_lexer": "ipython3",
   "version": "3.6.3"
  }
 },
 "nbformat": 4,
 "nbformat_minor": 4
}

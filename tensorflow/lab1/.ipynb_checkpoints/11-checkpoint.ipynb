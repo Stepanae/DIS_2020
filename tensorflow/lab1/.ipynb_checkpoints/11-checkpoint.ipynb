{
 "cells": [
  {
   "cell_type": "markdown",
   "metadata": {},
   "source": [
    "# Лабораторная работа №1 \"Настройка Virtualenv, JupyterLab, TensorFlow, TensorFlow Graph\""
   ]
  },
  {
   "cell_type": "markdown",
   "metadata": {},
   "source": [
    "## Virtualenv\n",
    "\n",
    "- [Установка и описание (рус)](https://docs.python.org/3/tutorial/venv.html)\n",
    "- [Установка и описание (eng)](https://python-scripts.com/virtualenv)\n",
    "\n",
    "### Инициализация Virtualenv (MacOS, Linux)\n",
    "```bash\n",
    "python3 -m venv <venv_name>\n",
    "source <venv_name>/bin/activate\n",
    "pip install <package_name>\n",
    "```\n"
   ]
  },
  {
   "cell_type": "markdown",
   "metadata": {},
   "source": [
    "## Jupyter Lab\n",
    "- [Документация](https://jupyterlab.readthedocs.io/en/stable/)\n",
    "\n",
    "```bash\n",
    "pip install jupyterlab\n",
    "jypyter lab\n",
    "```\n",
    "\n",
    "## Google Colab (как другая опция c GPU)\n",
    "- Максимум на 12 часов (после этого переменные удаляются)\n",
    "- Сбоит после 70-90 минут простоя, использовать следующий скрипт в терминале браузера:\n",
    "```js\n",
    "function ClickConnect(){\n",
    "    console.log(\"Working with colab\"); \n",
    "    document.querySelector(\"colab-toolbar-button#connect\").click(); \n",
    "}\n",
    "setInterval(ClickConnect,60000);\n",
    "```\n",
    "- !!! После предыдущей команды могут забанить на GPU :)\n",
    "\n",
    "**Желательно использовать со ЛР2 и далее**\n",
    "[https://colab.research.google.com/](https://colab.research.google.com/)\n",
    "\n",
    "Проверка GPU:\n",
    "```\n",
    "!nvidia-smi\n",
    "```\n",
    "\n",
    "## Другие ресурсы\n",
    "\n",
    "1. [Stackoverflow](https://ru.stackoverflow.com/)\n",
    "1. [GitHub](https://github.com/)\n",
    "\n",
    "Обратить внимание на следующие пакеты:\n",
    "1. [matplotlib](https://matplotlib.org/)\n",
    "1. [numpy](https://numpy.org/)\n",
    "1. [tqdm](https://github.com/tqdm/tqdm#ipython-jupyter-integration)\n",
    "\n",
    "[Очень хороший туториал](http://scipy-lectures.org/)\n"
   ]
  },
  {
   "cell_type": "markdown",
   "metadata": {},
   "source": [
    "## Установка TensorFlow\n",
    "\n",
    "[Инструкция по установке](https://www.tensorflow.org/install)\n",
    "```\n",
    "pip install --upgrade pip\n",
    "pip install tensorflow\n",
    "```\n",
    "\n",
    "[Документация по TensorFlow](https://www.tensorflow.org/api_docs/python/tf)\n"
   ]
  },
  {
   "cell_type": "code",
   "execution_count": null,
   "metadata": {},
   "outputs": [],
   "source": [
    "!pip install tensorflow"
   ]
  },
  {
   "cell_type": "markdown",
   "metadata": {},
   "source": [
    "## Tensorflow Lab Task\n",
    "\n",
    "- [tf.Graph](https://www.tensorflow.org/api_docs/python/tf/Graph)\n",
    "- [tf.function](https://www.tensorflow.org/api_docs/python/tf/function)"
   ]
  },
  {
   "cell_type": "code",
   "execution_count": 3,
   "metadata": {},
   "outputs": [],
   "source": [
    "import tensorflow as tf"
   ]
  },
  {
   "cell_type": "markdown",
   "metadata": {},
   "source": [
    "### Реализация tensorflow==1.* (из методички)\n",
    "```python3\n",
    "default_graph = tf.get_default_graph()\n",
    "a = tf.constant(1.0)\n",
    "b = tf.constant(2.0)\n",
    "y = tf.add(a,b)\n",
    "\n",
    "with tf. Session () as session :\n",
    "    print(y.eval())\n",
    "\n",
    "```\n",
    "\n",
    "### [Миграция на tf2.*](https://www.tensorflow.org/guide/migrate)\n",
    "### Ниже реализация для tf2.*"
   ]
  },
  {
   "cell_type": "code",
   "execution_count": 42,
   "metadata": {},
   "outputs": [
    {
     "name": "stdout",
     "output_type": "stream",
     "text": [
      "tf.Tensor(3.0, shape=(), dtype=float32)\n"
     ]
    }
   ],
   "source": [
    "@tf.function \n",
    "def f(a, b):\n",
    "    g = tf.Graph()\n",
    "    with g.as_default():\n",
    "        y = tf.add(a,b)\n",
    "        # Можно здесь добавить другие переменные\n",
    "#         c2 = tf.multiply(a, b)\n",
    "#         y2 = tf.pow(c2, 2)\n",
    "        return y\n",
    "\n",
    "\n",
    "a = tf.constant(1.0) \n",
    "b = tf.constant(2.0)\n",
    "\n",
    "print(f(a, b))"
   ]
  }
 ],
 "metadata": {
  "kernelspec": {
   "display_name": "Python 3",
   "language": "python",
   "name": "python3"
  },
  "language_info": {
   "codemirror_mode": {
    "name": "ipython",
    "version": 3
   },
   "file_extension": ".py",
   "mimetype": "text/x-python",
   "name": "python",
   "nbconvert_exporter": "python",
   "pygments_lexer": "ipython3",
   "version": "3.6.3"
  }
 },
 "nbformat": 4,
 "nbformat_minor": 4
}
